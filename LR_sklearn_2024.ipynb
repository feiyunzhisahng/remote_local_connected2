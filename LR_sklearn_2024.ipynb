{
 "cells": [
  {
   "cell_type": "code",
   "execution_count": 1,
   "id": "2ffd6de1",
   "metadata": {},
   "outputs": [
    {
     "ename": "ModuleNotFoundError",
     "evalue": "No module named 'sklearn'",
     "output_type": "error",
     "traceback": [
      "\u001b[1;31m---------------------------------------------------------------------------\u001b[0m",
      "\u001b[1;31mModuleNotFoundError\u001b[0m                       Traceback (most recent call last)",
      "Cell \u001b[1;32mIn[1], line 1\u001b[0m\n\u001b[1;32m----> 1\u001b[0m \u001b[38;5;28;01mfrom\u001b[39;00m \u001b[38;5;21;01msklearn\u001b[39;00m\u001b[38;5;21;01m.\u001b[39;00m\u001b[38;5;21;01mlinear_model\u001b[39;00m \u001b[38;5;28;01mimport\u001b[39;00m LogisticRegression \u001b[38;5;28;01mas\u001b[39;00m LR\n\u001b[0;32m      2\u001b[0m \u001b[38;5;28;01mfrom\u001b[39;00m \u001b[38;5;21;01msklearn\u001b[39;00m\u001b[38;5;21;01m.\u001b[39;00m\u001b[38;5;21;01mdatasets\u001b[39;00m \u001b[38;5;28;01mimport\u001b[39;00m load_breast_cancer\n\u001b[0;32m      3\u001b[0m \u001b[38;5;28;01mimport\u001b[39;00m \u001b[38;5;21;01mnumpy\u001b[39;00m \u001b[38;5;28;01mas\u001b[39;00m \u001b[38;5;21;01mnp\u001b[39;00m\n",
      "\u001b[1;31mModuleNotFoundError\u001b[0m: No module named 'sklearn'"
     ]
    }
   ],
   "source": [
    "from sklearn.linear_model import LogisticRegression as LR\n",
    "from sklearn.datasets import load_breast_cancer\n",
    "import numpy as np\n",
    "import matplotlib.pyplot as plt\n",
    "\n",
    "from sklearn.model_selection import train_test_split\n",
    "from sklearn.metrics import accuracy_score\n",
    "\n",
    "task = load_breast_cancer()\n",
    "X = task.data\n",
    "y = task.target\n",
    "print(X.shape)\n",
    "print(y)"
   ]
  },
  {
   "cell_type": "code",
   "execution_count": null,
   "id": "b823f6cb",
   "metadata": {},
   "outputs": [
    {
     "name": "stdout",
     "output_type": "stream",
     "text": [
      "[[ 4.00684981  0.03210408 -0.13802319 -0.01622583  0.          0.\n",
      "   0.          0.          0.          0.          0.          0.50525565\n",
      "   0.         -0.07127187  0.          0.          0.          0.\n",
      "   0.          0.          0.         -0.24599733 -0.12865733 -0.01440383\n",
      "   0.          0.         -2.03332446  0.          0.          0.        ]]\n",
      "[10]\n"
     ]
    }
   ],
   "source": [
    "lrl1 = LR(penalty=\"l1\",solver=\"liblinear\",C=0.5,max_iter=1000) #面向对象：实例化\n",
    "lrl2 = LR(penalty=\"l2\",solver=\"liblinear\",C=0.5,max_iter=1000)\n",
    "\n",
    "\n",
    "lrl1 = lrl1.fit(X,y)#进行训练\n",
    "print(lrl1.coef_)#逻辑回归的重要属性coef_，查看每个特征所对应的参数theta\n",
    "print((lrl1.coef_ != 0).sum(axis=1))"
   ]
  },
  {
   "cell_type": "code",
   "execution_count": null,
   "id": "6cb7906c",
   "metadata": {},
   "outputs": [
    {
     "name": "stdout",
     "output_type": "stream",
     "text": [
      "[[ 1.60607308e+00  9.80640554e-02  5.51538489e-02 -4.80814634e-03\n",
      "  -9.75651764e-02 -2.97883054e-01 -4.58633029e-01 -2.27937385e-01\n",
      "  -1.40149921e-01 -1.87015384e-02  1.19850184e-02  8.61188612e-01\n",
      "   1.13302087e-01 -9.32795489e-02 -1.04386381e-02 -1.73386376e-02\n",
      "  -5.21391606e-02 -2.75748725e-02 -2.79489851e-02  1.17683009e-03\n",
      "   1.22026471e+00 -2.96641459e-01 -1.71806509e-01 -2.18869267e-02\n",
      "  -1.79870166e-01 -8.58359341e-01 -1.15630505e+00 -4.37780410e-01\n",
      "  -4.31445382e-01 -8.46315361e-02]]\n"
     ]
    }
   ],
   "source": [
    "lrl2 = lrl2.fit(X,y)\n",
    "print(lrl2.coef_)"
   ]
  },
  {
   "cell_type": "code",
   "execution_count": null,
   "id": "28c251f3",
   "metadata": {},
   "outputs": [],
   "source": [
    "import numpy as np\n",
    "import matplotlib.pyplot as plt\n",
    "from sklearn.model_selection import train_test_split\n",
    "from sklearn.metrics import accuracy_score\n",
    "l1 = []\n",
    "l2 = []\n",
    "l1test = []\n",
    "l2test = []"
   ]
  },
  {
   "cell_type": "code",
   "execution_count": null,
   "id": "ed57c36f",
   "metadata": {},
   "outputs": [],
   "source": [
    "Xtrain, Xtest, Ytrain, Ytest = train_test_split(X,y,test_size=0.3,random_state=420)\n",
    "for i in np.linspace(0.05,1,19):\n",
    "    lrl1 = LR(penalty=\"l1\",solver=\"liblinear\",C=i,max_iter=1000)\n",
    "    lrl2 = LR(penalty=\"l2\",solver=\"liblinear\",C=i,max_iter=1000)\n",
    "    lrl1 = lrl1.fit(Xtrain,Ytrain)\n",
    "    l1.append(accuracy_score(lrl1.predict(Xtrain),Ytrain))\n",
    "    l1test.append(accuracy_score(lrl1.predict(Xtest),Ytest))\n",
    "    lrl2 = lrl2.fit(Xtrain, Ytrain)\n",
    "    l2.append(accuracy_score(lrl2.predict(Xtrain), Ytrain))\n",
    "    l2test.append(accuracy_score(lrl2.predict(Xtest), Ytest))"
   ]
  },
  {
   "cell_type": "code",
   "execution_count": null,
   "id": "c735e11c",
   "metadata": {},
   "outputs": [
    {
     "data": {
      "image/png": "[encoded data removed]",
      "text/plain": [
       "<Figure size 432x432 with 1 Axes>"
      ]
     },
     "metadata": {
      "needs_background": "light"
     },
     "output_type": "display_data"
    }
   ],
   "source": [
    "graph = [l1, l2, l1test, l2test]\n",
    "color = [\"green\", \"black\", \"lightgreen\", \"gray\"]\n",
    "label = [\"L1\", \"L2\", \"L1test\", \"L2test\"]\n",
    "\n",
    "plt.figure(figsize=(6, 6))\n",
    "for i in range(len(graph)):\n",
    "    plt.plot(np.linspace(0.05, 1, 19), graph[i], color[i], label=label[i])\n",
    "plt.legend(loc=4)  # 图例的位置在哪里?4表示，右下角\n",
    "plt.show()"
   ]
  },
  {
   "cell_type": "code",
   "execution_count": null,
   "id": "53a841ea",
   "metadata": {},
   "outputs": [],
   "source": []
  }
 ],
 "metadata": {
  "kernelspec": {
   "display_name": "Python 3 (ipykernel)",
   "language": "python",
   "name": "python3"
  },
  "language_info": {
   "codemirror_mode": {
    "name": "ipython",
    "version": 3
   },
   "file_extension": ".py",
   "mimetype": "text/x-python",
   "name": "python",
   "nbconvert_exporter": "python",
   "pygments_lexer": "ipython3",
   "version": "3.8.0"
  }
 },
 "nbformat": 4,
 "nbformat_minor": 5
}
